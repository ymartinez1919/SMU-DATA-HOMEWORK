{
 "cells": [
  {
   "cell_type": "code",
   "execution_count": 1,
   "id": "fe623d01",
   "metadata": {},
   "outputs": [],
   "source": [
    "# imports\n",
    "# data science imports\n",
    "import pandas as pd\n",
    "import numpy as np\n",
    "import matplotlib.pyplot as plt\n",
    "import matplotlib.cm as cm\n",
    "import seaborn as sns\n",
    "\n",
    "# data processing\n",
    "from sklearn.preprocessing import StandardScaler\n",
    "from scipy.cluster.hierarchy import dendrogram, linkage\n",
    "\n",
    "# unsupervised algorithms\n",
    "from sklearn.manifold import TSNE\n",
    "from sklearn.decomposition import PCA\n",
    "from sklearn.cluster import KMeans\n",
    "from sklearn.cluster import DBSCAN\n",
    "from sklearn.cluster import AgglomerativeClustering\n",
    "\n",
    "# metrics\n",
    "from sklearn.metrics import silhouette_samples, silhouette_score"
   ]
  },
  {
   "cell_type": "code",
   "execution_count": 2,
   "id": "92f69bde",
   "metadata": {},
   "outputs": [],
   "source": [
    "# pandas display options\n",
    "pd.set_option('display.max_columns', None)\n",
    "pd.set_option(\"display.max_colwidth\", None)\n",
    "pd.set_option(\"display.max_rows\", None)"
   ]
  },
  {
   "cell_type": "code",
   "execution_count": 3,
   "id": "2f059e49",
   "metadata": {},
   "outputs": [
    {
     "data": {
      "text/html": [
       "<div>\n",
       "<style scoped>\n",
       "    .dataframe tbody tr th:only-of-type {\n",
       "        vertical-align: middle;\n",
       "    }\n",
       "\n",
       "    .dataframe tbody tr th {\n",
       "        vertical-align: top;\n",
       "    }\n",
       "\n",
       "    .dataframe thead th {\n",
       "        text-align: right;\n",
       "    }\n",
       "</style>\n",
       "<table border=\"1\" class=\"dataframe\">\n",
       "  <thead>\n",
       "    <tr style=\"text-align: right;\">\n",
       "      <th></th>\n",
       "      <th>Unnamed: 0</th>\n",
       "      <th>CoinName</th>\n",
       "      <th>Algorithm</th>\n",
       "      <th>IsTrading</th>\n",
       "      <th>ProofType</th>\n",
       "      <th>TotalCoinsMined</th>\n",
       "      <th>TotalCoinSupply</th>\n",
       "    </tr>\n",
       "  </thead>\n",
       "  <tbody>\n",
       "    <tr>\n",
       "      <th>0</th>\n",
       "      <td>42</td>\n",
       "      <td>42 Coin</td>\n",
       "      <td>Scrypt</td>\n",
       "      <td>True</td>\n",
       "      <td>PoW/PoS</td>\n",
       "      <td>4.199995e+01</td>\n",
       "      <td>42</td>\n",
       "    </tr>\n",
       "    <tr>\n",
       "      <th>1</th>\n",
       "      <td>365</td>\n",
       "      <td>365Coin</td>\n",
       "      <td>X11</td>\n",
       "      <td>True</td>\n",
       "      <td>PoW/PoS</td>\n",
       "      <td>NaN</td>\n",
       "      <td>2300000000</td>\n",
       "    </tr>\n",
       "    <tr>\n",
       "      <th>2</th>\n",
       "      <td>404</td>\n",
       "      <td>404Coin</td>\n",
       "      <td>Scrypt</td>\n",
       "      <td>True</td>\n",
       "      <td>PoW/PoS</td>\n",
       "      <td>1.055185e+09</td>\n",
       "      <td>532000000</td>\n",
       "    </tr>\n",
       "    <tr>\n",
       "      <th>3</th>\n",
       "      <td>611</td>\n",
       "      <td>SixEleven</td>\n",
       "      <td>SHA-256</td>\n",
       "      <td>True</td>\n",
       "      <td>PoW</td>\n",
       "      <td>NaN</td>\n",
       "      <td>611000</td>\n",
       "    </tr>\n",
       "    <tr>\n",
       "      <th>4</th>\n",
       "      <td>808</td>\n",
       "      <td>808</td>\n",
       "      <td>SHA-256</td>\n",
       "      <td>True</td>\n",
       "      <td>PoW/PoS</td>\n",
       "      <td>0.000000e+00</td>\n",
       "      <td>0</td>\n",
       "    </tr>\n",
       "  </tbody>\n",
       "</table>\n",
       "</div>"
      ],
      "text/plain": [
       "  Unnamed: 0   CoinName Algorithm  IsTrading ProofType  TotalCoinsMined  \\\n",
       "0         42    42 Coin    Scrypt       True   PoW/PoS     4.199995e+01   \n",
       "1        365    365Coin       X11       True   PoW/PoS              NaN   \n",
       "2        404    404Coin    Scrypt       True   PoW/PoS     1.055185e+09   \n",
       "3        611  SixEleven   SHA-256       True       PoW              NaN   \n",
       "4        808        808   SHA-256       True   PoW/PoS     0.000000e+00   \n",
       "\n",
       "  TotalCoinSupply  \n",
       "0              42  \n",
       "1      2300000000  \n",
       "2       532000000  \n",
       "3          611000  \n",
       "4               0  "
      ]
     },
     "execution_count": 3,
     "metadata": {},
     "output_type": "execute_result"
    }
   ],
   "source": [
    "# read in data\n",
    "file = 'crypto_data.csv'\n",
    "df = pd.read_csv(file)\n",
    "df.head()"
   ]
  },
  {
   "cell_type": "code",
   "execution_count": 4,
   "id": "9f0242c4",
   "metadata": {},
   "outputs": [
    {
     "name": "stdout",
     "output_type": "stream",
     "text": [
      "<class 'pandas.core.frame.DataFrame'>\n",
      "RangeIndex: 1252 entries, 0 to 1251\n",
      "Data columns (total 7 columns):\n",
      " #   Column           Non-Null Count  Dtype  \n",
      "---  ------           --------------  -----  \n",
      " 0   Unnamed: 0       1252 non-null   object \n",
      " 1   CoinName         1252 non-null   object \n",
      " 2   Algorithm        1252 non-null   object \n",
      " 3   IsTrading        1252 non-null   bool   \n",
      " 4   ProofType        1252 non-null   object \n",
      " 5   TotalCoinsMined  744 non-null    float64\n",
      " 6   TotalCoinSupply  1252 non-null   object \n",
      "dtypes: bool(1), float64(1), object(5)\n",
      "memory usage: 60.0+ KB\n"
     ]
    }
   ],
   "source": [
    "df.info()"
   ]
  },
  {
   "cell_type": "code",
   "execution_count": 5,
   "id": "ee3a3f03",
   "metadata": {},
   "outputs": [],
   "source": [
    "# Discard all cryptocurrencies that are not being traded. In other words, filter for currencies that are currently being traded. Once you have done this, drop the IsTrading column from the dataframe."
   ]
  },
  {
   "cell_type": "code",
   "execution_count": 6,
   "id": "f3e514c4",
   "metadata": {},
   "outputs": [
    {
     "data": {
      "text/plain": [
       "True     1144\n",
       "False     108\n",
       "Name: IsTrading, dtype: int64"
      ]
     },
     "execution_count": 6,
     "metadata": {},
     "output_type": "execute_result"
    }
   ],
   "source": [
    "df.IsTrading.value_counts()"
   ]
  },
  {
   "cell_type": "code",
   "execution_count": 7,
   "id": "556b93b4",
   "metadata": {},
   "outputs": [
    {
     "name": "stdout",
     "output_type": "stream",
     "text": [
      "<class 'pandas.core.frame.DataFrame'>\n",
      "RangeIndex: 1144 entries, 0 to 1143\n",
      "Data columns (total 7 columns):\n",
      " #   Column           Non-Null Count  Dtype  \n",
      "---  ------           --------------  -----  \n",
      " 0   Unnamed: 0       1144 non-null   object \n",
      " 1   CoinName         1144 non-null   object \n",
      " 2   Algorithm        1144 non-null   object \n",
      " 3   IsTrading        1144 non-null   bool   \n",
      " 4   ProofType        1144 non-null   object \n",
      " 5   TotalCoinsMined  685 non-null    float64\n",
      " 6   TotalCoinSupply  1144 non-null   object \n",
      "dtypes: bool(1), float64(1), object(5)\n",
      "memory usage: 54.9+ KB\n"
     ]
    }
   ],
   "source": [
    "df2 = df.loc[df.IsTrading].reset_index(drop=True)\n",
    "df2.info()"
   ]
  },
  {
   "cell_type": "code",
   "execution_count": 8,
   "id": "873b89e0",
   "metadata": {},
   "outputs": [
    {
     "data": {
      "text/html": [
       "<div>\n",
       "<style scoped>\n",
       "    .dataframe tbody tr th:only-of-type {\n",
       "        vertical-align: middle;\n",
       "    }\n",
       "\n",
       "    .dataframe tbody tr th {\n",
       "        vertical-align: top;\n",
       "    }\n",
       "\n",
       "    .dataframe thead th {\n",
       "        text-align: right;\n",
       "    }\n",
       "</style>\n",
       "<table border=\"1\" class=\"dataframe\">\n",
       "  <thead>\n",
       "    <tr style=\"text-align: right;\">\n",
       "      <th></th>\n",
       "      <th>Unnamed: 0</th>\n",
       "      <th>CoinName</th>\n",
       "      <th>Algorithm</th>\n",
       "      <th>ProofType</th>\n",
       "      <th>TotalCoinsMined</th>\n",
       "      <th>TotalCoinSupply</th>\n",
       "    </tr>\n",
       "  </thead>\n",
       "  <tbody>\n",
       "    <tr>\n",
       "      <th>0</th>\n",
       "      <td>42</td>\n",
       "      <td>42 Coin</td>\n",
       "      <td>Scrypt</td>\n",
       "      <td>PoW/PoS</td>\n",
       "      <td>4.199995e+01</td>\n",
       "      <td>42</td>\n",
       "    </tr>\n",
       "    <tr>\n",
       "      <th>1</th>\n",
       "      <td>365</td>\n",
       "      <td>365Coin</td>\n",
       "      <td>X11</td>\n",
       "      <td>PoW/PoS</td>\n",
       "      <td>NaN</td>\n",
       "      <td>2300000000</td>\n",
       "    </tr>\n",
       "    <tr>\n",
       "      <th>2</th>\n",
       "      <td>404</td>\n",
       "      <td>404Coin</td>\n",
       "      <td>Scrypt</td>\n",
       "      <td>PoW/PoS</td>\n",
       "      <td>1.055185e+09</td>\n",
       "      <td>532000000</td>\n",
       "    </tr>\n",
       "    <tr>\n",
       "      <th>3</th>\n",
       "      <td>611</td>\n",
       "      <td>SixEleven</td>\n",
       "      <td>SHA-256</td>\n",
       "      <td>PoW</td>\n",
       "      <td>NaN</td>\n",
       "      <td>611000</td>\n",
       "    </tr>\n",
       "    <tr>\n",
       "      <th>4</th>\n",
       "      <td>808</td>\n",
       "      <td>808</td>\n",
       "      <td>SHA-256</td>\n",
       "      <td>PoW/PoS</td>\n",
       "      <td>0.000000e+00</td>\n",
       "      <td>0</td>\n",
       "    </tr>\n",
       "  </tbody>\n",
       "</table>\n",
       "</div>"
      ],
      "text/plain": [
       "  Unnamed: 0   CoinName Algorithm ProofType  TotalCoinsMined TotalCoinSupply\n",
       "0         42    42 Coin    Scrypt   PoW/PoS     4.199995e+01              42\n",
       "1        365    365Coin       X11   PoW/PoS              NaN      2300000000\n",
       "2        404    404Coin    Scrypt   PoW/PoS     1.055185e+09       532000000\n",
       "3        611  SixEleven   SHA-256       PoW              NaN          611000\n",
       "4        808        808   SHA-256   PoW/PoS     0.000000e+00               0"
      ]
     },
     "execution_count": 8,
     "metadata": {},
     "output_type": "execute_result"
    }
   ],
   "source": [
    "df2 = df2.drop([\"IsTrading\"], axis=1)\n",
    "df2.head()"
   ]
  },
  {
   "cell_type": "code",
   "execution_count": 9,
   "id": "8b675657",
   "metadata": {},
   "outputs": [
    {
     "name": "stdout",
     "output_type": "stream",
     "text": [
      "<class 'pandas.core.frame.DataFrame'>\n",
      "RangeIndex: 685 entries, 0 to 684\n",
      "Data columns (total 6 columns):\n",
      " #   Column           Non-Null Count  Dtype  \n",
      "---  ------           --------------  -----  \n",
      " 0   Unnamed: 0       685 non-null    object \n",
      " 1   CoinName         685 non-null    object \n",
      " 2   Algorithm        685 non-null    object \n",
      " 3   ProofType        685 non-null    object \n",
      " 4   TotalCoinsMined  685 non-null    float64\n",
      " 5   TotalCoinSupply  685 non-null    object \n",
      "dtypes: float64(1), object(5)\n",
      "memory usage: 32.2+ KB\n"
     ]
    }
   ],
   "source": [
    "# Remove all rows that have at least one null value.\n",
    "df2 = df2.dropna(how=\"any\").reset_index(drop=True)\n",
    "df2.info()"
   ]
  },
  {
   "cell_type": "code",
   "execution_count": 10,
   "id": "8164c326",
   "metadata": {},
   "outputs": [
    {
     "name": "stdout",
     "output_type": "stream",
     "text": [
      "<class 'pandas.core.frame.DataFrame'>\n",
      "RangeIndex: 532 entries, 0 to 531\n",
      "Data columns (total 6 columns):\n",
      " #   Column           Non-Null Count  Dtype  \n",
      "---  ------           --------------  -----  \n",
      " 0   Unnamed: 0       532 non-null    object \n",
      " 1   CoinName         532 non-null    object \n",
      " 2   Algorithm        532 non-null    object \n",
      " 3   ProofType        532 non-null    object \n",
      " 4   TotalCoinsMined  532 non-null    float64\n",
      " 5   TotalCoinSupply  532 non-null    object \n",
      "dtypes: float64(1), object(5)\n",
      "memory usage: 25.1+ KB\n"
     ]
    }
   ],
   "source": [
    "# Filter for cryptocurrencies that have been mined. That is, the total coins mined should be greater than zero\n",
    "mask = df2.TotalCoinsMined > 0\n",
    "df2 = df2.loc[mask].reset_index(drop=True)\n",
    "df2.info()"
   ]
  },
  {
   "cell_type": "code",
   "execution_count": 11,
   "id": "fcb7dcaa",
   "metadata": {},
   "outputs": [],
   "source": [
    "# In order for your dataset to be comprehensible to a machine learning algorithm, its data should be numeric. Since the coin names do not contribute to the analysis of the data, delete the CoinName from the original dataframe."
   ]
  },
  {
   "cell_type": "code",
   "execution_count": 12,
   "id": "1f14b529",
   "metadata": {},
   "outputs": [
    {
     "data": {
      "text/html": [
       "<div>\n",
       "<style scoped>\n",
       "    .dataframe tbody tr th:only-of-type {\n",
       "        vertical-align: middle;\n",
       "    }\n",
       "\n",
       "    .dataframe tbody tr th {\n",
       "        vertical-align: top;\n",
       "    }\n",
       "\n",
       "    .dataframe thead th {\n",
       "        text-align: right;\n",
       "    }\n",
       "</style>\n",
       "<table border=\"1\" class=\"dataframe\">\n",
       "  <thead>\n",
       "    <tr style=\"text-align: right;\">\n",
       "      <th></th>\n",
       "      <th>Algorithm</th>\n",
       "      <th>ProofType</th>\n",
       "      <th>TotalCoinsMined</th>\n",
       "      <th>TotalCoinSupply</th>\n",
       "    </tr>\n",
       "  </thead>\n",
       "  <tbody>\n",
       "    <tr>\n",
       "      <th>0</th>\n",
       "      <td>Scrypt</td>\n",
       "      <td>PoW/PoS</td>\n",
       "      <td>4.199995e+01</td>\n",
       "      <td>42</td>\n",
       "    </tr>\n",
       "    <tr>\n",
       "      <th>1</th>\n",
       "      <td>Scrypt</td>\n",
       "      <td>PoW/PoS</td>\n",
       "      <td>1.055185e+09</td>\n",
       "      <td>532000000</td>\n",
       "    </tr>\n",
       "    <tr>\n",
       "      <th>2</th>\n",
       "      <td>X13</td>\n",
       "      <td>PoW/PoS</td>\n",
       "      <td>2.927942e+10</td>\n",
       "      <td>314159265359</td>\n",
       "    </tr>\n",
       "    <tr>\n",
       "      <th>3</th>\n",
       "      <td>SHA-256</td>\n",
       "      <td>PoW</td>\n",
       "      <td>1.792718e+07</td>\n",
       "      <td>21000000</td>\n",
       "    </tr>\n",
       "    <tr>\n",
       "      <th>4</th>\n",
       "      <td>Ethash</td>\n",
       "      <td>PoW</td>\n",
       "      <td>1.076842e+08</td>\n",
       "      <td>0</td>\n",
       "    </tr>\n",
       "  </tbody>\n",
       "</table>\n",
       "</div>"
      ],
      "text/plain": [
       "  Algorithm ProofType  TotalCoinsMined TotalCoinSupply\n",
       "0    Scrypt   PoW/PoS     4.199995e+01              42\n",
       "1    Scrypt   PoW/PoS     1.055185e+09       532000000\n",
       "2       X13   PoW/PoS     2.927942e+10    314159265359\n",
       "3   SHA-256       PoW     1.792718e+07        21000000\n",
       "4    Ethash       PoW     1.076842e+08               0"
      ]
     },
     "execution_count": 12,
     "metadata": {},
     "output_type": "execute_result"
    }
   ],
   "source": [
    "df2 = df2.drop(['Unnamed: 0', 'CoinName'], axis=1)\n",
    "df2.head()"
   ]
  },
  {
   "cell_type": "code",
   "execution_count": 13,
   "id": "a73ef18d",
   "metadata": {},
   "outputs": [
    {
     "name": "stdout",
     "output_type": "stream",
     "text": [
      "<class 'pandas.core.frame.DataFrame'>\n",
      "RangeIndex: 532 entries, 0 to 531\n",
      "Data columns (total 4 columns):\n",
      " #   Column           Non-Null Count  Dtype  \n",
      "---  ------           --------------  -----  \n",
      " 0   Algorithm        532 non-null    object \n",
      " 1   ProofType        532 non-null    object \n",
      " 2   TotalCoinsMined  532 non-null    float64\n",
      " 3   TotalCoinSupply  532 non-null    float64\n",
      "dtypes: float64(2), object(2)\n",
      "memory usage: 16.8+ KB\n"
     ]
    }
   ],
   "source": [
    "#cast all columns to an integer\n",
    "df2[\"TotalCoinSupply\"] = df2.TotalCoinSupply.astype(float)\n",
    "df2.info()"
   ]
  },
  {
   "cell_type": "code",
   "execution_count": 14,
   "id": "bb2fe5b1",
   "metadata": {},
   "outputs": [],
   "source": [
    "# Your next step in data preparation is to convert the remaining features with text values, Algorithm and ProofType, into numerical data. To accomplish this task, use Pandas to create dummy variables. Examine the number of rows and columns of your dataset now. How did they change?"
   ]
  },
  {
   "cell_type": "code",
   "execution_count": 15,
   "id": "b8bbb873",
   "metadata": {},
   "outputs": [
    {
     "name": "stdout",
     "output_type": "stream",
     "text": [
      "71\n"
     ]
    },
    {
     "data": {
      "text/plain": [
       "Scrypt                    182\n",
       "X11                        73\n",
       "SHA-256                    48\n",
       "CryptoNight                19\n",
       "X13                        17\n",
       "PoS                        17\n",
       "Quark                      13\n",
       "Equihash                   12\n",
       "NeoScrypt                  10\n",
       "NIST5                      10\n",
       "Multiple                    9\n",
       "Ethash                      9\n",
       "DPoS                        7\n",
       "XEVAN                       6\n",
       "CryptoNight-V7              5\n",
       "X16R                        4\n",
       "Lyra2RE                     4\n",
       "Groestl                     4\n",
       "X15                         4\n",
       "SHA-256D                    4\n",
       "Lyra2REv2                   4\n",
       "Lyra2Z                      4\n",
       "Blake                       3\n",
       "QuBit                       3\n",
       "POS 3.0                     3\n",
       "Dagger                      3\n",
       "SHA-512                     3\n",
       "CryptoNight Heavy           2\n",
       "Skein                       2\n",
       "Keccak                      2\n",
       "C11                         2\n",
       "PHI1612                     2\n",
       "BLAKE256                    2\n",
       "Blake2b                     2\n",
       "SHA3                        2\n",
       "Jump Consistent Hash        1\n",
       "SHA-256 + Hive              1\n",
       "Proof-of-Authority          1\n",
       "VBFT                        1\n",
       "Leased POS                  1\n",
       "IMesh                       1\n",
       "Semux BFT consensus         1\n",
       "Green Protocol              1\n",
       "HMQ1725                     1\n",
       "Equihash+Scrypt             1\n",
       "Tribus                      1\n",
       "Exosis                      1\n",
       "ECC 256K1                   1\n",
       "Proof-of-BibleHash          1\n",
       "Cryptonight-GPU             1\n",
       "X14                         1\n",
       "SkunkHash                   1\n",
       "POS 2.0                     1\n",
       "HybridScryptHash256         1\n",
       "Shabal256                   1\n",
       "Counterparty                1\n",
       "Stanford Folding            1\n",
       "M7 POW                      1\n",
       "QUAIT                       1\n",
       "1GB AES Pattern Search      1\n",
       "X11GOST                     1\n",
       "Dagger-Hashimoto            1\n",
       "Blake2S                     1\n",
       "536                         1\n",
       "Argon2d                     1\n",
       "Cloverhash                  1\n",
       "Time Travel                 1\n",
       "SkunkHash v2 Raptor         1\n",
       "VeChainThor Authority       1\n",
       "Ouroboros                   1\n",
       "TRC10                       1\n",
       "Name: Algorithm, dtype: int64"
      ]
     },
     "execution_count": 15,
     "metadata": {},
     "output_type": "execute_result"
    }
   ],
   "source": [
    "print(df2.Algorithm.nunique())\n",
    "df2.Algorithm.value_counts()"
   ]
  },
  {
   "cell_type": "code",
   "execution_count": 16,
   "id": "8175976f",
   "metadata": {},
   "outputs": [
    {
     "data": {
      "text/plain": [
       "['NeoScrypt',\n",
       " 'NIST5',\n",
       " 'Multiple',\n",
       " 'Ethash',\n",
       " 'DPoS',\n",
       " 'XEVAN',\n",
       " 'CryptoNight-V7',\n",
       " 'X16R',\n",
       " 'Lyra2RE',\n",
       " 'Groestl']"
      ]
     },
     "execution_count": 16,
     "metadata": {},
     "output_type": "execute_result"
    }
   ],
   "source": [
    "# anything less than 10 will go in a \"other\" bucket\n",
    "alg = df2.Algorithm.value_counts()\n",
    "alg_rename = list(alg[alg < 12].index)\n",
    "alg_rename[0:10]"
   ]
  },
  {
   "cell_type": "code",
   "execution_count": 17,
   "id": "79d16b9b",
   "metadata": {},
   "outputs": [
    {
     "data": {
      "text/plain": [
       "Scrypt         182\n",
       "Other          151\n",
       "X11             73\n",
       "SHA-256         48\n",
       "CryptoNight     19\n",
       "X13             17\n",
       "PoS             17\n",
       "Quark           13\n",
       "Equihash        12\n",
       "Name: Algorithm, dtype: int64"
      ]
     },
     "execution_count": 17,
     "metadata": {},
     "output_type": "execute_result"
    }
   ],
   "source": [
    "mask = df2.Algorithm.isin(alg_rename)\n",
    "df2.loc[mask, \"Algorithm\"] = \"Other\"\n",
    "\n",
    "df2.Algorithm.value_counts()"
   ]
  },
  {
   "cell_type": "code",
   "execution_count": 18,
   "id": "ac4dcfb0",
   "metadata": {
    "scrolled": true
   },
   "outputs": [
    {
     "name": "stdout",
     "output_type": "stream",
     "text": [
      "25\n"
     ]
    },
    {
     "data": {
      "text/plain": [
       "PoW                     237\n",
       "PoW/PoS                 176\n",
       "PoS                      86\n",
       "DPoS                      9\n",
       "PoC                       3\n",
       "PoS/PoW                   2\n",
       "POBh                      1\n",
       "LPoS                      1\n",
       "Proof of Trust            1\n",
       "Pos                       1\n",
       "DPOS                      1\n",
       "Zero-Knowledge Proof      1\n",
       "HPoW                      1\n",
       "PoA                       1\n",
       "PoW + Hive                1\n",
       "PoW/PoS                   1\n",
       "PoW and PoS               1\n",
       "Proof of Authority        1\n",
       "TPoS                      1\n",
       "PoW/PoW                   1\n",
       "dPoW/PoW                  1\n",
       "PoW/nPoS                  1\n",
       "PoST                      1\n",
       "PoS/PoW/PoT               1\n",
       "PoS/LPoS                  1\n",
       "Name: ProofType, dtype: int64"
      ]
     },
     "execution_count": 18,
     "metadata": {},
     "output_type": "execute_result"
    }
   ],
   "source": [
    "# REPEAT the same for Proof Type\n",
    "print(df2.ProofType.nunique())\n",
    "df2.ProofType.value_counts()"
   ]
  },
  {
   "cell_type": "code",
   "execution_count": 19,
   "id": "88386856",
   "metadata": {},
   "outputs": [],
   "source": [
    "# combine some columns due to name repetition\n",
    "df2.loc[df2.ProofType == 'PoW/PoW ', \"ProofType\"] = \"PoW\"\n",
    "df2.loc[df2.ProofType == 'PoS/PoW', \"ProofType\"] = \"PoW/PoS\"\n",
    "df2.loc[df2.ProofType == 'PoW/PoS ', \"ProofType\"] = \"PoW/PoS\"\n",
    "df2.loc[df2.ProofType == 'PoW and PoS', \"ProofType\"] = \"PoW/PoS\"\n",
    "df2.loc[df2.ProofType == 'Pos', \"ProofType\"] = \"PoS\""
   ]
  },
  {
   "cell_type": "code",
   "execution_count": 20,
   "id": "c663197b",
   "metadata": {},
   "outputs": [
    {
     "data": {
      "text/plain": [
       "['DPoS',\n",
       " 'PoC',\n",
       " 'PoW + Hive',\n",
       " 'LPoS',\n",
       " 'Proof of Trust',\n",
       " 'DPOS',\n",
       " 'Zero-Knowledge Proof',\n",
       " 'HPoW',\n",
       " 'PoA',\n",
       " 'TPoS']"
      ]
     },
     "execution_count": 20,
     "metadata": {},
     "output_type": "execute_result"
    }
   ],
   "source": [
    "# anything less than 80 will go in a \"other\" bucket\n",
    "prooft = df2.ProofType.value_counts()\n",
    "prooft_rename = list(prooft[prooft < 80].index)\n",
    "prooft_rename[0:10]"
   ]
  },
  {
   "cell_type": "code",
   "execution_count": 21,
   "id": "9679e973",
   "metadata": {},
   "outputs": [
    {
     "data": {
      "text/plain": [
       "PoW        237\n",
       "PoW/PoS    180\n",
       "PoS         87\n",
       "Other       28\n",
       "Name: ProofType, dtype: int64"
      ]
     },
     "execution_count": 21,
     "metadata": {},
     "output_type": "execute_result"
    }
   ],
   "source": [
    "mask = df2.ProofType.isin(prooft_rename)\n",
    "df2.loc[mask, \"ProofType\"] = \"Other\"\n",
    "\n",
    "df2.ProofType.value_counts()"
   ]
  },
  {
   "cell_type": "code",
   "execution_count": 22,
   "id": "8554f1b3",
   "metadata": {},
   "outputs": [
    {
     "data": {
      "text/html": [
       "<div>\n",
       "<style scoped>\n",
       "    .dataframe tbody tr th:only-of-type {\n",
       "        vertical-align: middle;\n",
       "    }\n",
       "\n",
       "    .dataframe tbody tr th {\n",
       "        vertical-align: top;\n",
       "    }\n",
       "\n",
       "    .dataframe thead th {\n",
       "        text-align: right;\n",
       "    }\n",
       "</style>\n",
       "<table border=\"1\" class=\"dataframe\">\n",
       "  <thead>\n",
       "    <tr style=\"text-align: right;\">\n",
       "      <th></th>\n",
       "      <th>Algorithm</th>\n",
       "      <th>ProofType</th>\n",
       "      <th>TotalCoinsMined</th>\n",
       "      <th>TotalCoinSupply</th>\n",
       "    </tr>\n",
       "  </thead>\n",
       "  <tbody>\n",
       "    <tr>\n",
       "      <th>0</th>\n",
       "      <td>Scrypt</td>\n",
       "      <td>PoW/PoS</td>\n",
       "      <td>4.199995e+01</td>\n",
       "      <td>4.200000e+01</td>\n",
       "    </tr>\n",
       "    <tr>\n",
       "      <th>1</th>\n",
       "      <td>Scrypt</td>\n",
       "      <td>PoW/PoS</td>\n",
       "      <td>1.055185e+09</td>\n",
       "      <td>5.320000e+08</td>\n",
       "    </tr>\n",
       "    <tr>\n",
       "      <th>2</th>\n",
       "      <td>X13</td>\n",
       "      <td>PoW/PoS</td>\n",
       "      <td>2.927942e+10</td>\n",
       "      <td>3.141593e+11</td>\n",
       "    </tr>\n",
       "    <tr>\n",
       "      <th>3</th>\n",
       "      <td>SHA-256</td>\n",
       "      <td>PoW</td>\n",
       "      <td>1.792718e+07</td>\n",
       "      <td>2.100000e+07</td>\n",
       "    </tr>\n",
       "    <tr>\n",
       "      <th>4</th>\n",
       "      <td>Other</td>\n",
       "      <td>PoW</td>\n",
       "      <td>1.076842e+08</td>\n",
       "      <td>0.000000e+00</td>\n",
       "    </tr>\n",
       "  </tbody>\n",
       "</table>\n",
       "</div>"
      ],
      "text/plain": [
       "  Algorithm ProofType  TotalCoinsMined  TotalCoinSupply\n",
       "0    Scrypt   PoW/PoS     4.199995e+01     4.200000e+01\n",
       "1    Scrypt   PoW/PoS     1.055185e+09     5.320000e+08\n",
       "2       X13   PoW/PoS     2.927942e+10     3.141593e+11\n",
       "3   SHA-256       PoW     1.792718e+07     2.100000e+07\n",
       "4     Other       PoW     1.076842e+08     0.000000e+00"
      ]
     },
     "execution_count": 22,
     "metadata": {},
     "output_type": "execute_result"
    }
   ],
   "source": [
    "df2.head()"
   ]
  },
  {
   "cell_type": "code",
   "execution_count": 23,
   "id": "dbb360f3",
   "metadata": {},
   "outputs": [
    {
     "data": {
      "text/html": [
       "<div>\n",
       "<style scoped>\n",
       "    .dataframe tbody tr th:only-of-type {\n",
       "        vertical-align: middle;\n",
       "    }\n",
       "\n",
       "    .dataframe tbody tr th {\n",
       "        vertical-align: top;\n",
       "    }\n",
       "\n",
       "    .dataframe thead th {\n",
       "        text-align: right;\n",
       "    }\n",
       "</style>\n",
       "<table border=\"1\" class=\"dataframe\">\n",
       "  <thead>\n",
       "    <tr style=\"text-align: right;\">\n",
       "      <th></th>\n",
       "      <th>Algorithm_CryptoNight</th>\n",
       "      <th>Algorithm_Equihash</th>\n",
       "      <th>Algorithm_Other</th>\n",
       "      <th>Algorithm_PoS</th>\n",
       "      <th>Algorithm_Quark</th>\n",
       "      <th>Algorithm_SHA-256</th>\n",
       "      <th>Algorithm_Scrypt</th>\n",
       "      <th>Algorithm_X11</th>\n",
       "      <th>Algorithm_X13</th>\n",
       "      <th>ProofType_Other</th>\n",
       "      <th>ProofType_PoS</th>\n",
       "      <th>ProofType_PoW</th>\n",
       "      <th>ProofType_PoW/PoS</th>\n",
       "    </tr>\n",
       "  </thead>\n",
       "  <tbody>\n",
       "    <tr>\n",
       "      <th>0</th>\n",
       "      <td>0</td>\n",
       "      <td>0</td>\n",
       "      <td>0</td>\n",
       "      <td>0</td>\n",
       "      <td>0</td>\n",
       "      <td>0</td>\n",
       "      <td>1</td>\n",
       "      <td>0</td>\n",
       "      <td>0</td>\n",
       "      <td>0</td>\n",
       "      <td>0</td>\n",
       "      <td>0</td>\n",
       "      <td>1</td>\n",
       "    </tr>\n",
       "    <tr>\n",
       "      <th>1</th>\n",
       "      <td>0</td>\n",
       "      <td>0</td>\n",
       "      <td>0</td>\n",
       "      <td>0</td>\n",
       "      <td>0</td>\n",
       "      <td>0</td>\n",
       "      <td>1</td>\n",
       "      <td>0</td>\n",
       "      <td>0</td>\n",
       "      <td>0</td>\n",
       "      <td>0</td>\n",
       "      <td>0</td>\n",
       "      <td>1</td>\n",
       "    </tr>\n",
       "    <tr>\n",
       "      <th>2</th>\n",
       "      <td>0</td>\n",
       "      <td>0</td>\n",
       "      <td>0</td>\n",
       "      <td>0</td>\n",
       "      <td>0</td>\n",
       "      <td>0</td>\n",
       "      <td>0</td>\n",
       "      <td>0</td>\n",
       "      <td>1</td>\n",
       "      <td>0</td>\n",
       "      <td>0</td>\n",
       "      <td>0</td>\n",
       "      <td>1</td>\n",
       "    </tr>\n",
       "    <tr>\n",
       "      <th>3</th>\n",
       "      <td>0</td>\n",
       "      <td>0</td>\n",
       "      <td>0</td>\n",
       "      <td>0</td>\n",
       "      <td>0</td>\n",
       "      <td>1</td>\n",
       "      <td>0</td>\n",
       "      <td>0</td>\n",
       "      <td>0</td>\n",
       "      <td>0</td>\n",
       "      <td>0</td>\n",
       "      <td>1</td>\n",
       "      <td>0</td>\n",
       "    </tr>\n",
       "    <tr>\n",
       "      <th>4</th>\n",
       "      <td>0</td>\n",
       "      <td>0</td>\n",
       "      <td>1</td>\n",
       "      <td>0</td>\n",
       "      <td>0</td>\n",
       "      <td>0</td>\n",
       "      <td>0</td>\n",
       "      <td>0</td>\n",
       "      <td>0</td>\n",
       "      <td>0</td>\n",
       "      <td>0</td>\n",
       "      <td>1</td>\n",
       "      <td>0</td>\n",
       "    </tr>\n",
       "  </tbody>\n",
       "</table>\n",
       "</div>"
      ],
      "text/plain": [
       "   Algorithm_CryptoNight  Algorithm_Equihash  Algorithm_Other  Algorithm_PoS  \\\n",
       "0                      0                   0                0              0   \n",
       "1                      0                   0                0              0   \n",
       "2                      0                   0                0              0   \n",
       "3                      0                   0                0              0   \n",
       "4                      0                   0                1              0   \n",
       "\n",
       "   Algorithm_Quark  Algorithm_SHA-256  Algorithm_Scrypt  Algorithm_X11  \\\n",
       "0                0                  0                 1              0   \n",
       "1                0                  0                 1              0   \n",
       "2                0                  0                 0              0   \n",
       "3                0                  1                 0              0   \n",
       "4                0                  0                 0              0   \n",
       "\n",
       "   Algorithm_X13  ProofType_Other  ProofType_PoS  ProofType_PoW  \\\n",
       "0              0                0              0              0   \n",
       "1              0                0              0              0   \n",
       "2              1                0              0              0   \n",
       "3              0                0              0              1   \n",
       "4              0                0              0              1   \n",
       "\n",
       "   ProofType_PoW/PoS  \n",
       "0                  1  \n",
       "1                  1  \n",
       "2                  1  \n",
       "3                  0  \n",
       "4                  0  "
      ]
     },
     "execution_count": 23,
     "metadata": {},
     "output_type": "execute_result"
    }
   ],
   "source": [
    "#One Hot Encode \n",
    "oh_cols = [\"Algorithm\", \"ProofType\"]\n",
    "df_oh = df2.loc[:, oh_cols]\n",
    "\n",
    "df_oh = pd.get_dummies(df_oh)\n",
    "df_oh.head()\n"
   ]
  },
  {
   "cell_type": "code",
   "execution_count": 24,
   "id": "808f09ba",
   "metadata": {},
   "outputs": [
    {
     "data": {
      "text/html": [
       "<div>\n",
       "<style scoped>\n",
       "    .dataframe tbody tr th:only-of-type {\n",
       "        vertical-align: middle;\n",
       "    }\n",
       "\n",
       "    .dataframe tbody tr th {\n",
       "        vertical-align: top;\n",
       "    }\n",
       "\n",
       "    .dataframe thead th {\n",
       "        text-align: right;\n",
       "    }\n",
       "</style>\n",
       "<table border=\"1\" class=\"dataframe\">\n",
       "  <thead>\n",
       "    <tr style=\"text-align: right;\">\n",
       "      <th></th>\n",
       "      <th>TotalCoinsMined</th>\n",
       "      <th>TotalCoinSupply</th>\n",
       "    </tr>\n",
       "  </thead>\n",
       "  <tbody>\n",
       "    <tr>\n",
       "      <th>0</th>\n",
       "      <td>-0.117108</td>\n",
       "      <td>-0.152870</td>\n",
       "    </tr>\n",
       "    <tr>\n",
       "      <th>1</th>\n",
       "      <td>-0.093970</td>\n",
       "      <td>-0.145009</td>\n",
       "    </tr>\n",
       "    <tr>\n",
       "      <th>2</th>\n",
       "      <td>0.524946</td>\n",
       "      <td>4.489424</td>\n",
       "    </tr>\n",
       "    <tr>\n",
       "      <th>3</th>\n",
       "      <td>-0.116715</td>\n",
       "      <td>-0.152560</td>\n",
       "    </tr>\n",
       "    <tr>\n",
       "      <th>4</th>\n",
       "      <td>-0.114747</td>\n",
       "      <td>-0.152870</td>\n",
       "    </tr>\n",
       "  </tbody>\n",
       "</table>\n",
       "</div>"
      ],
      "text/plain": [
       "   TotalCoinsMined  TotalCoinSupply\n",
       "0        -0.117108        -0.152870\n",
       "1        -0.093970        -0.145009\n",
       "2         0.524946         4.489424\n",
       "3        -0.116715        -0.152560\n",
       "4        -0.114747        -0.152870"
      ]
     },
     "execution_count": 24,
     "metadata": {},
     "output_type": "execute_result"
    }
   ],
   "source": [
    "num_cols = [\"TotalCoinsMined\", \"TotalCoinSupply\"]\n",
    "df_num = df2.loc[:, num_cols]\n",
    "\n",
    "scaler = StandardScaler()\n",
    "scaler.fit(df_num)\n",
    "\n",
    "df_num = pd.DataFrame(scaler.transform(df_num), columns=num_cols)\n",
    "df_num.head()"
   ]
  },
  {
   "cell_type": "code",
   "execution_count": 25,
   "id": "a3a7f9b1",
   "metadata": {},
   "outputs": [
    {
     "data": {
      "text/html": [
       "<div>\n",
       "<style scoped>\n",
       "    .dataframe tbody tr th:only-of-type {\n",
       "        vertical-align: middle;\n",
       "    }\n",
       "\n",
       "    .dataframe tbody tr th {\n",
       "        vertical-align: top;\n",
       "    }\n",
       "\n",
       "    .dataframe thead th {\n",
       "        text-align: right;\n",
       "    }\n",
       "</style>\n",
       "<table border=\"1\" class=\"dataframe\">\n",
       "  <thead>\n",
       "    <tr style=\"text-align: right;\">\n",
       "      <th></th>\n",
       "      <th>TotalCoinsMined</th>\n",
       "      <th>TotalCoinSupply</th>\n",
       "      <th>Algorithm_CryptoNight</th>\n",
       "      <th>Algorithm_Equihash</th>\n",
       "      <th>Algorithm_Other</th>\n",
       "      <th>Algorithm_PoS</th>\n",
       "      <th>Algorithm_Quark</th>\n",
       "      <th>Algorithm_SHA-256</th>\n",
       "      <th>Algorithm_Scrypt</th>\n",
       "      <th>Algorithm_X11</th>\n",
       "      <th>Algorithm_X13</th>\n",
       "      <th>ProofType_Other</th>\n",
       "      <th>ProofType_PoS</th>\n",
       "      <th>ProofType_PoW</th>\n",
       "      <th>ProofType_PoW/PoS</th>\n",
       "    </tr>\n",
       "  </thead>\n",
       "  <tbody>\n",
       "    <tr>\n",
       "      <th>0</th>\n",
       "      <td>-0.117108</td>\n",
       "      <td>-0.152870</td>\n",
       "      <td>0</td>\n",
       "      <td>0</td>\n",
       "      <td>0</td>\n",
       "      <td>0</td>\n",
       "      <td>0</td>\n",
       "      <td>0</td>\n",
       "      <td>1</td>\n",
       "      <td>0</td>\n",
       "      <td>0</td>\n",
       "      <td>0</td>\n",
       "      <td>0</td>\n",
       "      <td>0</td>\n",
       "      <td>1</td>\n",
       "    </tr>\n",
       "    <tr>\n",
       "      <th>1</th>\n",
       "      <td>-0.093970</td>\n",
       "      <td>-0.145009</td>\n",
       "      <td>0</td>\n",
       "      <td>0</td>\n",
       "      <td>0</td>\n",
       "      <td>0</td>\n",
       "      <td>0</td>\n",
       "      <td>0</td>\n",
       "      <td>1</td>\n",
       "      <td>0</td>\n",
       "      <td>0</td>\n",
       "      <td>0</td>\n",
       "      <td>0</td>\n",
       "      <td>0</td>\n",
       "      <td>1</td>\n",
       "    </tr>\n",
       "    <tr>\n",
       "      <th>2</th>\n",
       "      <td>0.524946</td>\n",
       "      <td>4.489424</td>\n",
       "      <td>0</td>\n",
       "      <td>0</td>\n",
       "      <td>0</td>\n",
       "      <td>0</td>\n",
       "      <td>0</td>\n",
       "      <td>0</td>\n",
       "      <td>0</td>\n",
       "      <td>0</td>\n",
       "      <td>1</td>\n",
       "      <td>0</td>\n",
       "      <td>0</td>\n",
       "      <td>0</td>\n",
       "      <td>1</td>\n",
       "    </tr>\n",
       "    <tr>\n",
       "      <th>3</th>\n",
       "      <td>-0.116715</td>\n",
       "      <td>-0.152560</td>\n",
       "      <td>0</td>\n",
       "      <td>0</td>\n",
       "      <td>0</td>\n",
       "      <td>0</td>\n",
       "      <td>0</td>\n",
       "      <td>1</td>\n",
       "      <td>0</td>\n",
       "      <td>0</td>\n",
       "      <td>0</td>\n",
       "      <td>0</td>\n",
       "      <td>0</td>\n",
       "      <td>1</td>\n",
       "      <td>0</td>\n",
       "    </tr>\n",
       "    <tr>\n",
       "      <th>4</th>\n",
       "      <td>-0.114747</td>\n",
       "      <td>-0.152870</td>\n",
       "      <td>0</td>\n",
       "      <td>0</td>\n",
       "      <td>1</td>\n",
       "      <td>0</td>\n",
       "      <td>0</td>\n",
       "      <td>0</td>\n",
       "      <td>0</td>\n",
       "      <td>0</td>\n",
       "      <td>0</td>\n",
       "      <td>0</td>\n",
       "      <td>0</td>\n",
       "      <td>1</td>\n",
       "      <td>0</td>\n",
       "    </tr>\n",
       "  </tbody>\n",
       "</table>\n",
       "</div>"
      ],
      "text/plain": [
       "   TotalCoinsMined  TotalCoinSupply  Algorithm_CryptoNight  \\\n",
       "0        -0.117108        -0.152870                      0   \n",
       "1        -0.093970        -0.145009                      0   \n",
       "2         0.524946         4.489424                      0   \n",
       "3        -0.116715        -0.152560                      0   \n",
       "4        -0.114747        -0.152870                      0   \n",
       "\n",
       "   Algorithm_Equihash  Algorithm_Other  Algorithm_PoS  Algorithm_Quark  \\\n",
       "0                   0                0              0                0   \n",
       "1                   0                0              0                0   \n",
       "2                   0                0              0                0   \n",
       "3                   0                0              0                0   \n",
       "4                   0                1              0                0   \n",
       "\n",
       "   Algorithm_SHA-256  Algorithm_Scrypt  Algorithm_X11  Algorithm_X13  \\\n",
       "0                  0                 1              0              0   \n",
       "1                  0                 1              0              0   \n",
       "2                  0                 0              0              1   \n",
       "3                  1                 0              0              0   \n",
       "4                  0                 0              0              0   \n",
       "\n",
       "   ProofType_Other  ProofType_PoS  ProofType_PoW  ProofType_PoW/PoS  \n",
       "0                0              0              0                  1  \n",
       "1                0              0              0                  1  \n",
       "2                0              0              0                  1  \n",
       "3                0              0              1                  0  \n",
       "4                0              0              1                  0  "
      ]
     },
     "execution_count": 25,
     "metadata": {},
     "output_type": "execute_result"
    }
   ],
   "source": [
    "#combine them both back\n",
    "df_train = pd.concat([df_num, df_oh], axis=1)\n",
    "df_train.head()"
   ]
  },
  {
   "cell_type": "code",
   "execution_count": 26,
   "id": "bb8fa346",
   "metadata": {},
   "outputs": [
    {
     "name": "stdout",
     "output_type": "stream",
     "text": [
      "(532, 2)\n"
     ]
    },
    {
     "data": {
      "text/html": [
       "<div>\n",
       "<style scoped>\n",
       "    .dataframe tbody tr th:only-of-type {\n",
       "        vertical-align: middle;\n",
       "    }\n",
       "\n",
       "    .dataframe tbody tr th {\n",
       "        vertical-align: top;\n",
       "    }\n",
       "\n",
       "    .dataframe thead th {\n",
       "        text-align: right;\n",
       "    }\n",
       "</style>\n",
       "<table border=\"1\" class=\"dataframe\">\n",
       "  <thead>\n",
       "    <tr style=\"text-align: right;\">\n",
       "      <th></th>\n",
       "      <th>Feature1</th>\n",
       "      <th>Feature2</th>\n",
       "    </tr>\n",
       "  </thead>\n",
       "  <tbody>\n",
       "    <tr>\n",
       "      <th>0</th>\n",
       "      <td>-18.892368</td>\n",
       "      <td>-10.791236</td>\n",
       "    </tr>\n",
       "    <tr>\n",
       "      <th>1</th>\n",
       "      <td>-13.010828</td>\n",
       "      <td>-14.682109</td>\n",
       "    </tr>\n",
       "    <tr>\n",
       "      <th>2</th>\n",
       "      <td>6.653805</td>\n",
       "      <td>-7.935745</td>\n",
       "    </tr>\n",
       "    <tr>\n",
       "      <th>3</th>\n",
       "      <td>10.809381</td>\n",
       "      <td>1.387687</td>\n",
       "    </tr>\n",
       "    <tr>\n",
       "      <th>4</th>\n",
       "      <td>20.850760</td>\n",
       "      <td>13.883802</td>\n",
       "    </tr>\n",
       "  </tbody>\n",
       "</table>\n",
       "</div>"
      ],
      "text/plain": [
       "    Feature1   Feature2\n",
       "0 -18.892368 -10.791236\n",
       "1 -13.010828 -14.682109\n",
       "2   6.653805  -7.935745\n",
       "3  10.809381   1.387687\n",
       "4  20.850760  13.883802"
      ]
     },
     "execution_count": 26,
     "metadata": {},
     "output_type": "execute_result"
    }
   ],
   "source": [
    "# TSNE\n",
    "tsne = TSNE(random_state=42)\n",
    "tsne_features = tsne.fit_transform(df_train)\n",
    "print(tsne_features.shape)\n",
    "\n",
    "tsne_df = pd.DataFrame(tsne_features, columns=[\"Feature1\", \"Feature2\"])\n",
    "tsne_df.head()"
   ]
  },
  {
   "cell_type": "code",
   "execution_count": 27,
   "id": "ecbfcb35",
   "metadata": {},
   "outputs": [
    {
     "data": {
      "image/png": "[encoded data removed]",
      "text/plain": [
       "<Figure size 720x432 with 1 Axes>"
      ]
     },
     "metadata": {
      "needs_background": "light"
     },
     "output_type": "display_data"
    }
   ],
   "source": [
    "plt.figure(figsize=(10, 6))\n",
    "plt.scatter(tsne_df[\"Feature1\"], tsne_df[\"Feature2\"])\n",
    "plt.show()"
   ]
  },
  {
   "cell_type": "code",
   "execution_count": 28,
   "id": "77c87704",
   "metadata": {},
   "outputs": [
    {
     "name": "stdout",
     "output_type": "stream",
     "text": [
      "[0.498, 0.119, 0.093, 0.084, 0.061, 0.052, 0.031, 0.018, 0.014, 0.009, 0.008, 0.008, 0.006, 0.0, 0.0]\n"
     ]
    },
    {
     "data": {
      "image/png": "[encoded data removed]",
      "text/plain": [
       "<Figure size 432x288 with 1 Axes>"
      ]
     },
     "metadata": {
      "needs_background": "light"
     },
     "output_type": "display_data"
    }
   ],
   "source": [
    "# PCA\n",
    "\n",
    "# Initialize PCA model\n",
    "pca = PCA(n_components=len(df_train.columns))\n",
    "pca.fit(df_train)\n",
    "\n",
    "print([round(x, 3) for x in pca.explained_variance_ratio_])\n",
    "plt.plot(range(1,len(df_train.columns)+1), pca.explained_variance_ratio_)\n",
    "plt.title(\"PCA Explained Variance\")\n",
    "plt.show()"
   ]
  },
  {
   "cell_type": "code",
   "execution_count": 29,
   "id": "806759cc",
   "metadata": {},
   "outputs": [
    {
     "name": "stdout",
     "output_type": "stream",
     "text": [
      "[0.498, 0.119, 0.093, 0.084, 0.061, 0.052]\n"
     ]
    }
   ],
   "source": [
    "#  For this project, preserve 90% of the explained variance in dimensionality reduction. How did the number of the features change?\n",
    "pca = PCA(n_components=0.90)\n",
    "pca.fit(df_train)\n",
    "\n",
    "print([round(x, 3) for x in pca.explained_variance_ratio_])\n",
    "#there are way less features when preserving 90% of the explained variance"
   ]
  },
  {
   "cell_type": "code",
   "execution_count": 30,
   "id": "2ced9fa2",
   "metadata": {},
   "outputs": [
    {
     "data": {
      "text/html": [
       "<div>\n",
       "<style scoped>\n",
       "    .dataframe tbody tr th:only-of-type {\n",
       "        vertical-align: middle;\n",
       "    }\n",
       "\n",
       "    .dataframe tbody tr th {\n",
       "        vertical-align: top;\n",
       "    }\n",
       "\n",
       "    .dataframe thead th {\n",
       "        text-align: right;\n",
       "    }\n",
       "</style>\n",
       "<table border=\"1\" class=\"dataframe\">\n",
       "  <thead>\n",
       "    <tr style=\"text-align: right;\">\n",
       "      <th></th>\n",
       "      <th>Feature 1</th>\n",
       "      <th>Feature 2</th>\n",
       "      <th>Feature 3</th>\n",
       "      <th>Feature 4</th>\n",
       "      <th>Feature 5</th>\n",
       "      <th>Feature 6</th>\n",
       "    </tr>\n",
       "  </thead>\n",
       "  <tbody>\n",
       "    <tr>\n",
       "      <th>0</th>\n",
       "      <td>-0.216885</td>\n",
       "      <td>-0.920063</td>\n",
       "      <td>0.414123</td>\n",
       "      <td>-0.240304</td>\n",
       "      <td>-0.200537</td>\n",
       "      <td>-0.282485</td>\n",
       "    </tr>\n",
       "    <tr>\n",
       "      <th>1</th>\n",
       "      <td>-0.194995</td>\n",
       "      <td>-0.922021</td>\n",
       "      <td>0.407740</td>\n",
       "      <td>-0.248647</td>\n",
       "      <td>-0.200715</td>\n",
       "      <td>-0.281021</td>\n",
       "    </tr>\n",
       "    <tr>\n",
       "      <th>2</th>\n",
       "      <td>3.523615</td>\n",
       "      <td>-0.495511</td>\n",
       "      <td>1.608541</td>\n",
       "      <td>2.452646</td>\n",
       "      <td>-0.196841</td>\n",
       "      <td>-0.039832</td>\n",
       "    </tr>\n",
       "    <tr>\n",
       "      <th>3</th>\n",
       "      <td>-0.185139</td>\n",
       "      <td>0.636163</td>\n",
       "      <td>0.082121</td>\n",
       "      <td>-0.136267</td>\n",
       "      <td>-0.067368</td>\n",
       "      <td>0.506872</td>\n",
       "    </tr>\n",
       "    <tr>\n",
       "      <th>4</th>\n",
       "      <td>-0.159985</td>\n",
       "      <td>0.860422</td>\n",
       "      <td>-0.400018</td>\n",
       "      <td>0.114043</td>\n",
       "      <td>-0.318328</td>\n",
       "      <td>-0.293537</td>\n",
       "    </tr>\n",
       "  </tbody>\n",
       "</table>\n",
       "</div>"
      ],
      "text/plain": [
       "   Feature 1  Feature 2  Feature 3  Feature 4  Feature 5  Feature 6\n",
       "0  -0.216885  -0.920063   0.414123  -0.240304  -0.200537  -0.282485\n",
       "1  -0.194995  -0.922021   0.407740  -0.248647  -0.200715  -0.281021\n",
       "2   3.523615  -0.495511   1.608541   2.452646  -0.196841  -0.039832\n",
       "3  -0.185139   0.636163   0.082121  -0.136267  -0.067368   0.506872\n",
       "4  -0.159985   0.860422  -0.400018   0.114043  -0.318328  -0.293537"
      ]
     },
     "execution_count": 30,
     "metadata": {},
     "output_type": "execute_result"
    }
   ],
   "source": [
    "df_pca = pd.DataFrame(pca.transform(df_train))\n",
    "df_pca.columns = [f\"Feature {x}\" for x in range(1, len(pca.explained_variance_ratio_)+1)]\n",
    "df_pca.head()"
   ]
  },
  {
   "cell_type": "code",
   "execution_count": 31,
   "id": "bf21cf6d",
   "metadata": {},
   "outputs": [],
   "source": [
    "# un t-SNE on the principal components: the output of the PCA transformation. Then create a scatter plot of the t-SNE output. Observe whether there are distinct clusters or not."
   ]
  },
  {
   "cell_type": "code",
   "execution_count": 32,
   "id": "6a8a077f",
   "metadata": {},
   "outputs": [
    {
     "name": "stdout",
     "output_type": "stream",
     "text": [
      "(532, 2)\n"
     ]
    },
    {
     "data": {
      "text/html": [
       "<div>\n",
       "<style scoped>\n",
       "    .dataframe tbody tr th:only-of-type {\n",
       "        vertical-align: middle;\n",
       "    }\n",
       "\n",
       "    .dataframe tbody tr th {\n",
       "        vertical-align: top;\n",
       "    }\n",
       "\n",
       "    .dataframe thead th {\n",
       "        text-align: right;\n",
       "    }\n",
       "</style>\n",
       "<table border=\"1\" class=\"dataframe\">\n",
       "  <thead>\n",
       "    <tr style=\"text-align: right;\">\n",
       "      <th></th>\n",
       "      <th>Feature1</th>\n",
       "      <th>Feature2</th>\n",
       "    </tr>\n",
       "  </thead>\n",
       "  <tbody>\n",
       "    <tr>\n",
       "      <th>0</th>\n",
       "      <td>-9.563703</td>\n",
       "      <td>-25.516394</td>\n",
       "    </tr>\n",
       "    <tr>\n",
       "      <th>1</th>\n",
       "      <td>-3.871848</td>\n",
       "      <td>-24.610504</td>\n",
       "    </tr>\n",
       "    <tr>\n",
       "      <th>2</th>\n",
       "      <td>10.258831</td>\n",
       "      <td>-6.348359</td>\n",
       "    </tr>\n",
       "    <tr>\n",
       "      <th>3</th>\n",
       "      <td>25.356108</td>\n",
       "      <td>6.930036</td>\n",
       "    </tr>\n",
       "    <tr>\n",
       "      <th>4</th>\n",
       "      <td>4.267732</td>\n",
       "      <td>26.803890</td>\n",
       "    </tr>\n",
       "  </tbody>\n",
       "</table>\n",
       "</div>"
      ],
      "text/plain": [
       "    Feature1   Feature2\n",
       "0  -9.563703 -25.516394\n",
       "1  -3.871848 -24.610504\n",
       "2  10.258831  -6.348359\n",
       "3  25.356108   6.930036\n",
       "4   4.267732  26.803890"
      ]
     },
     "execution_count": 32,
     "metadata": {},
     "output_type": "execute_result"
    }
   ],
   "source": [
    "# TSNE\n",
    "tsne = TSNE(random_state=42)\n",
    "tsne_features = tsne.fit_transform(df_pca)\n",
    "print(tsne_features.shape)\n",
    "\n",
    "tsne_df = pd.DataFrame(tsne_features, columns=[\"Feature1\", \"Feature2\"])\n",
    "tsne_df.head()"
   ]
  },
  {
   "cell_type": "code",
   "execution_count": 33,
   "id": "bc108a52",
   "metadata": {},
   "outputs": [
    {
     "data": {
      "image/png": "[encoded data removed]",
      "text/plain": [
       "<Figure size 720x432 with 1 Axes>"
      ]
     },
     "metadata": {
      "needs_background": "light"
     },
     "output_type": "display_data"
    }
   ],
   "source": [
    "plt.figure(figsize=(10, 6))\n",
    "plt.scatter(tsne_df[\"Feature1\"], tsne_df[\"Feature2\"])\n",
    "plt.show()"
   ]
  },
  {
   "cell_type": "code",
   "execution_count": 34,
   "id": "a8351b51",
   "metadata": {},
   "outputs": [
    {
     "name": "stderr",
     "output_type": "stream",
     "text": [
      "C:\\Users\\yvonne\\anaconda3\\lib\\site-packages\\sklearn\\cluster\\_kmeans.py:881: UserWarning: KMeans is known to have a memory leak on Windows with MKL, when there are less chunks than available threads. You can avoid it by setting the environment variable OMP_NUM_THREADS=3.\n",
      "  warnings.warn(\n"
     ]
    },
    {
     "data": {
      "image/png": "[encoded data removed]",
      "text/plain": [
       "<Figure size 432x288 with 1 Axes>"
      ]
     },
     "metadata": {
      "needs_background": "light"
     },
     "output_type": "display_data"
    }
   ],
   "source": [
    "# Create an elbow plot to identify the best number of clusters. Use a for-loop to determine the inertia for each k between 1 through 10. Determine, if possible, where the elbow of the plot is, and at which value of k it appears.\n",
    "\n",
    "# KMEANS\n",
    "inertia = []\n",
    "# Same as k = list(range(1, 11))\n",
    "k = [1,2,3,4,5,6,7,8,9,10]\n",
    "\n",
    "\n",
    "# Looking for the best k\n",
    "for i in k:\n",
    "    km = KMeans(n_clusters=i, random_state=42)\n",
    "    km.fit(df_pca)\n",
    "    inertia.append(km.inertia_)\n",
    "\n",
    "# Define a DataFrame to plot the Elbow Curve using hvPlot\n",
    "elbow_data = {\"k\": k, \"inertia\": inertia}\n",
    "df_elbow = pd.DataFrame(elbow_data)\n",
    "\n",
    "plt.plot(df_elbow['k'], df_elbow['inertia'])\n",
    "plt.xticks(range(1,11))\n",
    "plt.xlabel('Number of clusters')\n",
    "plt.ylabel('Inertia')\n",
    "plt.title(\"Elbow Plot for KMeans\")\n",
    "plt.show()"
   ]
  },
  {
   "cell_type": "code",
   "execution_count": 35,
   "id": "87accfe0",
   "metadata": {},
   "outputs": [],
   "source": [
    "# States a brief (1-2 sentence) conclusion on whether cryptocurrencies can be clustered together, and supports it with findings\n",
    "# Based on my findings, cryptocurrencies can be cluster into 4 distinct groups as proven with the dataset provided."
   ]
  },
  {
   "cell_type": "code",
   "execution_count": null,
   "id": "88cd4645",
   "metadata": {},
   "outputs": [],
   "source": []
  }
 ],
 "metadata": {
  "kernelspec": {
   "display_name": "Python 3 (ipykernel)",
   "language": "python",
   "name": "python3"
  },
  "language_info": {
   "codemirror_mode": {
    "name": "ipython",
    "version": 3
   },
   "file_extension": ".py",
   "mimetype": "text/x-python",
   "name": "python",
   "nbconvert_exporter": "python",
   "pygments_lexer": "ipython3",
   "version": "3.9.7"
  }
 },
 "nbformat": 4,
 "nbformat_minor": 5
}
