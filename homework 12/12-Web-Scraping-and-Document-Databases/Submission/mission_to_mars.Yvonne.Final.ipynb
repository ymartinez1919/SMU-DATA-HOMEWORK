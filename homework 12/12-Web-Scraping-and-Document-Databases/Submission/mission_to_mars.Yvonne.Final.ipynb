{
 "cells": [
  {
   "cell_type": "code",
   "execution_count": null,
   "id": "e1235e12",
   "metadata": {},
   "outputs": [],
   "source": [
    "from splinter import Browser\n",
    "from bs4 import BeautifulSoup\n",
    "from webdriver_manager.chrome import ChromeDriverManager\n",
    "import pandas as pd"
   ]
  },
  {
   "cell_type": "code",
   "execution_count": null,
   "id": "a97d6093",
   "metadata": {},
   "outputs": [],
   "source": [
    " # Setup splinter\n",
    "executable_path = {'executable_path': ChromeDriverManager().install()}\n",
    "browser = Browser('chrome', **executable_path, headless=False)"
   ]
  },
  {
   "cell_type": "markdown",
   "id": "9e8ee454",
   "metadata": {},
   "source": [
    "# NASA Mars News"
   ]
  },
  {
   "cell_type": "code",
   "execution_count": null,
   "id": "82360602",
   "metadata": {},
   "outputs": [],
   "source": [
    "# Scrape the Mars News Site and collect the latest News Title and Paragraph Text. Assign the text to variables that you can reference later."
   ]
  },
  {
   "cell_type": "code",
   "execution_count": null,
   "id": "b5bfd6b8",
   "metadata": {},
   "outputs": [],
   "source": [
    "url = \"https://redplanetscience.com/\"\n",
    "browser.visit(url)"
   ]
  },
  {
   "cell_type": "code",
   "execution_count": null,
   "id": "f8d6c9f4",
   "metadata": {},
   "outputs": [],
   "source": [
    "html = browser.html"
   ]
  },
  {
   "cell_type": "code",
   "execution_count": null,
   "id": "ff3c8f2e",
   "metadata": {},
   "outputs": [],
   "source": [
    "soup = BeautifulSoup(html, \"lxml\")\n",
    "soup"
   ]
  },
  {
   "cell_type": "code",
   "execution_count": null,
   "id": "e30c5e6d",
   "metadata": {},
   "outputs": [],
   "source": [
    "#collect the latest News Title and Paragraph Text."
   ]
  },
  {
   "cell_type": "code",
   "execution_count": null,
   "id": "a7f3f0d5",
   "metadata": {},
   "outputs": [],
   "source": [
    "#news title\n",
    "news_title = soup.find(\"div\", {\"class\":\"content_title\"}).text\n",
    "news_title"
   ]
  },
  {
   "cell_type": "code",
   "execution_count": null,
   "id": "b39997a6",
   "metadata": {},
   "outputs": [],
   "source": [
    "#paragraph text\n",
    "news_p = soup.find(\"div\", {\"class\":\"article_teaser_body\"}).text\n",
    "news_p"
   ]
  },
  {
   "cell_type": "markdown",
   "id": "b3231385",
   "metadata": {},
   "source": [
    "# JPL Mars Space Images - Featured Image"
   ]
  },
  {
   "cell_type": "code",
   "execution_count": null,
   "id": "fd669586",
   "metadata": {},
   "outputs": [],
   "source": [
    "# Use splinter to navigate the site and find the image url for the current Featured Mars Image and assign the url string to a variable called featured_image_url.\n",
    "# Make sure to find the image url to the full size .jpg image.\n",
    "# Make sure to save a complete url string for this image."
   ]
  },
  {
   "cell_type": "code",
   "execution_count": null,
   "id": "86736d30",
   "metadata": {},
   "outputs": [],
   "source": [
    "url = \"https://spaceimages-mars.com/\"\n",
    "browser.visit(url)"
   ]
  },
  {
   "cell_type": "code",
   "execution_count": null,
   "id": "7116b3ef",
   "metadata": {},
   "outputs": [],
   "source": [
    "html = browser.html"
   ]
  },
  {
   "cell_type": "code",
   "execution_count": null,
   "id": "c31284c3",
   "metadata": {},
   "outputs": [],
   "source": [
    "soup = BeautifulSoup(html, \"html.parser\")\n",
    "soup"
   ]
  },
  {
   "cell_type": "code",
   "execution_count": null,
   "id": "b8a4e898",
   "metadata": {},
   "outputs": [],
   "source": [
    "jpls = soup.find(\"img\", {\"class\":\"headerimage\"})[\"src\"]\n",
    "jpls"
   ]
  },
  {
   "cell_type": "code",
   "execution_count": null,
   "id": "35209968",
   "metadata": {},
   "outputs": [],
   "source": [
    "featured_image_url = url + jpls\n",
    "featured_image_url"
   ]
  },
  {
   "cell_type": "markdown",
   "id": "a4b2f459",
   "metadata": {},
   "source": [
    "# Mars Hemispheres"
   ]
  },
  {
   "cell_type": "code",
   "execution_count": null,
   "id": "b0a99375",
   "metadata": {},
   "outputs": [],
   "source": [
    "# Visit the Mars Facts webpage here and use Pandas to scrape the table containing facts about the planet including Diameter, Mass, etc.\n",
    "# Use Pandas to convert the data to a HTML table string."
   ]
  },
  {
   "cell_type": "code",
   "execution_count": null,
   "id": "ef83867b",
   "metadata": {},
   "outputs": [],
   "source": [
    "url = \"https://galaxyfacts-mars.com/\"\n",
    "browser.visit(url)"
   ]
  },
  {
   "cell_type": "code",
   "execution_count": null,
   "id": "d12f5734",
   "metadata": {},
   "outputs": [],
   "source": [
    "html = browser.html"
   ]
  },
  {
   "cell_type": "code",
   "execution_count": null,
   "id": "554840cd",
   "metadata": {},
   "outputs": [],
   "source": [
    "soup = BeautifulSoup(html, \"lxml\")"
   ]
  },
  {
   "cell_type": "code",
   "execution_count": null,
   "id": "ef15febf",
   "metadata": {},
   "outputs": [],
   "source": [
    "# Visit the Mars Facts Site Using Pandas to Read\n",
    "mars_facts = pd.read_html(\"https://galaxyfacts-mars.com/\")[1]\n",
    "mars_facts"
   ]
  },
  {
   "cell_type": "code",
   "execution_count": null,
   "id": "c45260ee",
   "metadata": {},
   "outputs": [],
   "source": [
    "mars_facts.columns=[\"Planet Profile\", \"Mars\"]\n",
    "mars_facts"
   ]
  },
  {
   "cell_type": "code",
   "execution_count": null,
   "id": "abdca8ac",
   "metadata": {},
   "outputs": [],
   "source": []
  },
  {
   "cell_type": "markdown",
   "id": "7d28983d",
   "metadata": {},
   "source": [
    "# Mars Hemispheres"
   ]
  },
  {
   "cell_type": "code",
   "execution_count": null,
   "id": "212bbf70",
   "metadata": {},
   "outputs": [],
   "source": [
    "# Visit the astrogeology site here to obtain high resolution images for each of Mar's hemispheres.\n",
    "\n",
    "# You will need to click each of the links to the hemispheres in order to find the image url to the full resolution image.\n",
    "\n",
    "# Save both the image url string for the full resolution hemisphere image, and the Hemisphere title containing the hemisphere name. Use a Python dictionary to store the data using the keys img_url and title.\n",
    "\n",
    "# Append the dictionary with the image url string and the hemisphere title to a list. This list will contain one dictionary for each hemisphere."
   ]
  },
  {
   "cell_type": "code",
   "execution_count": null,
   "id": "97aee17d",
   "metadata": {},
   "outputs": [],
   "source": [
    "# Mars Hemispheres\n",
    "url = 'https://marshemispheres.com/'\n",
    "browser.visit(url)"
   ]
  },
  {
   "cell_type": "code",
   "execution_count": null,
   "id": "76c6d370",
   "metadata": {},
   "outputs": [],
   "source": [
    "html = browser.html"
   ]
  },
  {
   "cell_type": "code",
   "execution_count": null,
   "id": "65f50a23",
   "metadata": {},
   "outputs": [],
   "source": [
    "soup = BeautifulSoup(html, \"lxml\")"
   ]
  },
  {
   "cell_type": "code",
   "execution_count": null,
   "id": "4c3c8862",
   "metadata": {},
   "outputs": [],
   "source": [
    "infos = soup.find_all(\"div\", {\"class\": \"item\"})\n",
    "infos"
   ]
  },
  {
   "cell_type": "code",
   "execution_count": null,
   "id": "90a23009",
   "metadata": {},
   "outputs": [],
   "source": [
    "hemisphere_image_urls = []\n",
    "\n",
    "\n",
    "for info in infos:\n",
    "        \n",
    "        hemisphere = {}\n",
    "        \n",
    "        #get my titles\n",
    "        titles = info.find(\"h3\").text.strip(\"Enhanced\")\n",
    "        #print(titles)\n",
    "        \n",
    "        #have to click into each one to get the high res\n",
    "        item_link = info.find(\"div\", {\"class\", \"description\"}).find(\"a\")\n",
    "        item_url = url + item_link[\"href\"]\n",
    "        browser.visit(item_url)\n",
    "        html2 = browser.html\n",
    "        soup2 = BeautifulSoup(html2)\n",
    "        \n",
    "        image_end_url = soup2.find(\"img\", {\"class\": \"wide-image\"})[\"src\"]\n",
    "        image_url = url + image_end_url\n",
    "        #print(image_link)\n",
    "        \n",
    "        hemisphere['title']= titles\n",
    "        hemisphere['img_url']= image_url\n",
    "        \n",
    "        hemisphere_image_urls.append(hemisphere)\n",
    "             "
   ]
  },
  {
   "cell_type": "code",
   "execution_count": null,
   "id": "afad8c50",
   "metadata": {},
   "outputs": [],
   "source": [
    "hemisphere_image_urls "
   ]
  },
  {
   "cell_type": "code",
   "execution_count": null,
   "id": "e57a276a",
   "metadata": {},
   "outputs": [],
   "source": [
    "\n",
    "alldata_scraped = {}\n",
    "alldata_scraped[\"news_p\"] = news_p\n",
    "alldata_scraped[\"news_title\"] = news_title\n",
    "alldata_scraped[\"featured_image_url\"] = featured_image_url\n",
    "alldata_scraped[\"mars_facts\"] = mars_facts.to_html\n",
    "alldata_scraped[\"hemispheres\"] = hemisphere_image_urls\n",
    "\n",
    "\n"
   ]
  },
  {
   "cell_type": "code",
   "execution_count": null,
   "id": "3d33e440",
   "metadata": {},
   "outputs": [],
   "source": [
    "alldata_scraped"
   ]
  }
 ],
 "metadata": {
  "kernelspec": {
   "display_name": "Python 3 (ipykernel)",
   "language": "python",
   "name": "python3"
  },
  "language_info": {
   "codemirror_mode": {
    "name": "ipython",
    "version": 3
   },
   "file_extension": ".py",
   "mimetype": "text/x-python",
   "name": "python",
   "nbconvert_exporter": "python",
   "pygments_lexer": "ipython3",
   "version": "3.9.7"
  }
 },
 "nbformat": 4,
 "nbformat_minor": 5
}
